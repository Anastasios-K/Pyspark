{
  "nbformat": 4,
  "nbformat_minor": 0,
  "metadata": {
    "colab": {
      "name": "Spam Detection.ipynb",
      "provenance": [],
      "authorship_tag": "ABX9TyNAay2UNPVjgemfoQ7ikSX3",
      "include_colab_link": true
    },
    "kernelspec": {
      "name": "python3",
      "display_name": "Python 3"
    }
  },
  "cells": [
    {
      "cell_type": "markdown",
      "metadata": {
        "id": "view-in-github",
        "colab_type": "text"
      },
      "source": [
        "<a href=\"https://colab.research.google.com/github/Anastasios-K/Pyspark/blob/master/Spam_Detection.ipynb\" target=\"_parent\"><img src=\"https://colab.research.google.com/assets/colab-badge.svg\" alt=\"Open In Colab\"/></a>"
      ]
    },
    {
      "cell_type": "code",
      "metadata": {
        "id": "crZU-zqjZ_b9",
        "colab_type": "code",
        "colab": {
          "base_uri": "https://localhost:8080/",
          "height": 105
        },
        "outputId": "c251dd35-9449-499f-e198-f155dc32fc21"
      },
      "source": [
        "!pip install gitpython\n",
        "!pip install pyspark"
      ],
      "execution_count": 1,
      "outputs": [
        {
          "output_type": "stream",
          "text": [
            "Requirement already satisfied: gitpython in /usr/local/lib/python3.6/dist-packages (3.1.0)\n",
            "Requirement already satisfied: gitdb<5,>=4.0.1 in /usr/local/lib/python3.6/dist-packages (from gitpython) (4.0.2)\n",
            "Requirement already satisfied: smmap<4,>=3.0.1 in /usr/local/lib/python3.6/dist-packages (from gitdb<5,>=4.0.1->gitpython) (3.0.1)\n",
            "Requirement already satisfied: pyspark in /usr/local/lib/python3.6/dist-packages (2.4.5)\n",
            "Requirement already satisfied: py4j==0.10.7 in /usr/local/lib/python3.6/dist-packages (from pyspark) (0.10.7)\n"
          ],
          "name": "stdout"
        }
      ]
    },
    {
      "cell_type": "code",
      "metadata": {
        "id": "XbvoO9EfaT6m",
        "colab_type": "code",
        "colab": {}
      },
      "source": [
        "from git import Repo\n",
        "import zipfile\n",
        "import shutil\n",
        "import tempfile\n",
        "\n",
        "import pyspark\n",
        "import os\n",
        "import re\n",
        "from nltk.corpus import stopwords\n",
        "import nltk\n",
        "import numpy as np\n",
        "from pyspark import StorageLevel\n",
        "from pyspark.mllib.feature import IDF, Normalizer\n",
        "import string\n",
        "from pyspark.mllib.regression import LabeledPoint\n",
        "from pyspark.mllib.classification import LogisticRegressionWithLBFGS, SVMWithSGD\n",
        "import time"
      ],
      "execution_count": 0,
      "outputs": []
    },
    {
      "cell_type": "code",
      "metadata": {
        "id": "bvn3tmjEaXiB",
        "colab_type": "code",
        "colab": {}
      },
      "source": [
        "# Update to a specific Java version which is compatible with Pyspark\n",
        "!apt-get install openjdk-8-jdk-headless -qq > /dev/null\n",
        "os.environ[\"JAVA_HOME\"] = \"/usr/lib/jvm/java-8-openjdk-amd64\"\n",
        "!update-alternatives --set java /usr/lib/jvm/java-8-openjdk-amd64/jre/bin/java\n",
        "\n",
        "# Comment out and run the code below to have a look at the Java version\n",
        "# !java -version"
      ],
      "execution_count": 0,
      "outputs": []
    },
    {
      "cell_type": "code",
      "metadata": {
        "id": "Yah3fiI5aoJ-",
        "colab_type": "code",
        "colab": {}
      },
      "source": [
        "unique_dir = tempfile.mkdtemp(prefix=\"Spam_Detection\", dir = os.getcwd()) # create a unique directory (its name starts with Spam_Detection) to clone the dataset\n",
        "Repo.clone_from(\"https://github.com/Anastasios-K/Pyspark.git\", unique_dir) # clone step\n",
        "\n",
        "os.chdir(unique_dir)\n",
        "zipfile.ZipFile(\"lingspam_public.zip\", mode=\"r\").extractall(\"target_dir\")\n",
        "os.chdir(\"target_dir/lingspam_public/\")\n",
        "\n",
        "dir_list = os.listdir(os.getcwd())"
      ],
      "execution_count": 0,
      "outputs": []
    },
    {
      "cell_type": "code",
      "metadata": {
        "id": "03JLGhC7cfMt",
        "colab_type": "code",
        "colab": {}
      },
      "source": [
        "# comment out to make sure that we are in the correct directory\n",
        "# we need to have access to ('readme.txt', 'stop', 'lemm', 'bare', 'lemm_stop')\n",
        "\n",
        "# os.listdir()"
      ],
      "execution_count": 0,
      "outputs": []
    },
    {
      "cell_type": "code",
      "metadata": {
        "id": "_ZvvO2Zdh81n",
        "colab_type": "code",
        "colab": {}
      },
      "source": [
        "sc = pyspark.SparkContext.getOrCreate() # Initiate Pyspark context"
      ],
      "execution_count": 0,
      "outputs": []
    },
    {
      "cell_type": "code",
      "metadata": {
        "id": "lEHVNPJciCc6",
        "colab_type": "code",
        "colab": {}
      },
      "source": [
        "\"\"\" Create the required RDDs depending on the text files \"\"\"\n",
        "\n",
        "def Create_RDDs(directory):\n",
        "    pathstring = os.path.abspath(directory)\n",
        "    tr_RDD = sc.wholeTextFiles(pathstring + \"/part[1-9]/\") # compose a training set using the first 9 folders\n",
        "    ts_RDD = sc.wholeTextFiles(pathstring + \"/part10/\") # keep the last forlder for test set\n",
        "\n",
        "    ts_RDD2 = ts_RDD.map(lambda text: (re.split('[/.]', text[0])[-2], text[1])) \n",
        "    tr_RDD2 = tr_RDD.map(lambda text: (re.split('[/.]', text[0])[-2], text[1]))\n",
        "\n",
        "    ts_RDD2.cache()\n",
        "    tr_RDD2.cache()\n",
        "    pairs = (directory, tr_RDD2, ts_RDD2)\n",
        "    return(pairs)"
      ],
      "execution_count": 0,
      "outputs": []
    },
    {
      "cell_type": "code",
      "metadata": {
        "id": "qu1pYDgliJJC",
        "colab_type": "code",
        "colab": {}
      },
      "source": [
        "pair_list = [Create_RDDs(x) for x in dir_list if \".txt\" not in x] # get the RDDs linked to each directory\n",
        "\n",
        "pair_dict = {pair_list[x][0]:(pair_list[x][1], pair_list[x][2]) for x in range(len(pair_list))} # create a dictionary with the directories and the corresponding RDDs\n",
        "\n",
        "train_Rdd, test_Rdd = pair_dict['bare']\n",
        "\n",
        "partial_Rdd = train_Rdd.sample(True, 0.1, seed=1) # 10% of the train_Rdd to be used in the sections below for facilitation\n",
        "\n",
        "# Comment out and run the code below to have a look at the outcome\n",
        "# WARNING!!! it takes some time\n",
        "\n",
        "# print(train_Rdd.count())\n",
        "# print(test_Rdd.count())\n",
        "# print(train_Rdd.take(1))\n",
        "# print(test_Rdd.take(1))\n",
        "# print(partial_Rdd.take(1))"
      ],
      "execution_count": 0,
      "outputs": []
    },
    {
      "cell_type": "code",
      "metadata": {
        "id": "pCmsVJPmiLy_",
        "colab_type": "code",
        "colab": {
          "base_uri": "https://localhost:8080/",
          "height": 54
        },
        "outputId": "c0f6fae7-56d6-43c7-a445-09a9d1cdba98"
      },
      "source": [
        "\"\"\" Functions for preprocessing \"\"\"\n",
        "\n",
        "def Tokenisation(text): # Breake down into tokens\n",
        "    nltk.download('punkt')\n",
        "    return(nltk.word_tokenize(text))\n",
        "\n",
        "def Punct_removal(tokens): # Remmove punctuation (the most efficient method)\n",
        "    tokens2 = [token.strip(string.punctuation) for token in tokens]\n",
        "    return(tokens2)\n",
        "\n",
        "def RDD_preparation(rdd): # Implement the entire preprocessing\n",
        "    rdd_vals1 = rdd.values() # Get values ONLY. \n",
        "    rdd_vals2 = rdd_vals1.map(Tokenisation) # Tokenise the values\n",
        "    rdd_vals3 = rdd_vals2.map(Punct_removal) # remove punctuation\n",
        "    rdd_vals4 = rdd.keys().zip(rdd_vals3) # match the kaeys nad values again\n",
        "    RDD_final = rdd_vals4.map(lambda string: (string[0], list(filter(None, string[1])))) # filter out empty strings\n",
        "    return(RDD_final)\n",
        "\n",
        "partial_Rdd1 = RDD_preparation(partial_Rdd) # use the partial_Rdd to test the fucntionality\n",
        "\n",
        "# Comment out and run the code below to have a look at the outcome\n",
        "\n",
        "# print(partial_Rdd1.count())\n",
        "print(partial_Rdd1.take(1))"
      ],
      "execution_count": 11,
      "outputs": [
        {
          "output_type": "stream",
          "text": [
            "[('9-536msg1', ['Subject', 'linguistics', '36', '1', '1998', 'linguistics', 'volume', '36', '1', '1998', 'mouton', 'de', 'gruyter', 'berlin', 'new', 'york', 'andrew', 'spencer', 'and', 'marina', 'zaretskaya', 'verb', 'prefixation', 'in', 'russian', 'as', 'lexical', 'subordination', 'thomas', 'berg', 'the', 'resolution', 'of', 'number', 'conflicts', 'in', 'english', 'and', 'german', 'agreement', 'patterns', 'kersti', 'borjars', 'and', 'carol', 'chapman', 'agreement', 'and', 'pro-drop', 'in', 'some', 'dialects', 'of', 'english', 'jose', 'hualde', 'a', 'gap', 'filled', 'postpostinitial', 'accent', 'in', 'azkoitia', 'basque', 'robin', 'hooper', 'universals', 'of', 'narrative', 'pragmatics', 'a', 'polynesian', 'case', 'study', 'nikolaus', 'p', 'himmelmann', 'documentary', 'and', 'descriptive', 'linguistics', 'book', 'reviews', 'notice', 'from', 'the', 'board', 'of', 'editors', 'mouton', 'de', 'gruyter', 'walter', 'de', 'gruyter', 'inc', 'postfach', '30', '34', '21', '200', 'saw', 'mill', 'river', 'road', 'd-10728', 'berlin', 'hawthorne', 'ny', '10532', 'germany', 'usa', 'fax', '49', '0', '30', '26005-351', 'fax', '1', '914', '747-1326', 'email', 'mouton', 'degruyter', 'de', 'publications', 'by', 'de', 'gruyter', 'can', 'also', 'be', 'ordered', 'via', 'world', 'wide', 'web', 'http', 'www', 'degruyter', 'de'])]\n"
          ],
          "name": "stdout"
        }
      ]
    },
    {
      "cell_type": "code",
      "metadata": {
        "id": "hRIZZSyLiZG9",
        "colab_type": "code",
        "colab": {}
      },
      "source": [
        "# Create a fixed-size vector from a word list\n",
        "\n",
        "def Hashing_vectors(text,dimensions): # arguments: the list and the size of the output vector\n",
        "    vector = np.zeros(dimensions)  # create vector of 0s\n",
        "    for word in text:\n",
        "        vector[hash(word) % dimensions] += 1 # add 1 at the hashed address \n",
        "    return(vector) # return hashed word vector\n",
        "\n",
        "def Norm_Tfidf(rdd, dimensions):\n",
        "    keys_RDD = rdd.keys()\n",
        "    vals_RDD = rdd.values()\n",
        "\n",
        "    # create vectors\n",
        "    vector_RDD = vals_RDD.map(lambda tokens: Hashing_vectors(tokens, dimensions))\n",
        "    vector_RDD.persist(StorageLevel.MEMORY_ONLY) # save in memeory only to accelarate the process\n",
        "\n",
        "    tfidf_RDD = IDF().fit(vector_RDD).transform(vector_RDD) # implement TF.IDF algorithm\n",
        "    norm_tfidf_RDD = Normalizer().transform(tfidf_RDD) # round the hashing values to 1\n",
        "    final_tfidf_RDD = keys_RDD.zip(norm_tfidf_RDD) # match the corresponding rdd keys\n",
        "    return(final_tfidf_RDD)\n",
        "    \n",
        "\n",
        "dimensions = 20 # use low dimensionality value to test\n",
        "partial_rdd2 = Norm_Tfidf(partial_Rdd1, dimensions) # use the latest partial_Rdd(1) to check the functionality\n",
        "\n",
        "# Comment out and run the code below to have a look at the outcome\n",
        "# print(partial_rdd2.take(1))"
      ],
      "execution_count": 0,
      "outputs": []
    },
    {
      "cell_type": "code",
      "metadata": {
        "id": "Pc1yishciZTL",
        "colab_type": "code",
        "colab": {
          "base_uri": "https://localhost:8080/",
          "height": 34
        },
        "outputId": "c033ef13-461e-48de-d282-c2bb52bff3b3"
      },
      "source": [
        "\"\"\" For user to get a visual representation of the RDD \"\"\"\n",
        "# comment out and run the code below to get a line by line visual representation\n",
        "\n",
        "# rdd_sample = partial_rdd2.take(100)\n",
        "# for x in rdd_sample:\n",
        "#   print(x,\"\\n\")"
      ],
      "execution_count": 14,
      "outputs": [
        {
          "output_type": "execute_result",
          "data": {
            "text/plain": [
              "' For user to get a visual representation of the RDD '"
            ]
          },
          "metadata": {
            "tags": []
          },
          "execution_count": 14
        }
      ]
    },
    {
      "cell_type": "code",
      "metadata": {
        "id": "bQrJIPTdiZbQ",
        "colab_type": "code",
        "colab": {
          "base_uri": "https://localhost:8080/",
          "height": 54
        },
        "outputId": "e7fd2a25-42ca-4ccb-f4d7-a6d2a0e8a565"
      },
      "source": [
        "# Generate the target labels (whether it is SPAM or NOT)\n",
        "# NOTE: 1 --> SPAM    &    0 --> NO SPAM\n",
        "\n",
        "def Create_Labels(rdd): \n",
        "    class_vector_RDD = rdd.map(lambda label: (1 if (label[0].startswith('spmsg')) else 0, label[1])) # detect spam based on \"spmsg\" text at the beginning\n",
        "    target_RDD = class_vector_RDD.map(lambda cv: LabeledPoint(cv[0],cv[1]) ) \n",
        "    return(target_RDD)\n",
        "\n",
        "final_partial = Create_Labels(partial_rdd2)\n",
        "\n",
        "# Comment out and run the code below to have a look at the outcome\n",
        "# print(final_partial.take(1))"
      ],
      "execution_count": 16,
      "outputs": [
        {
          "output_type": "stream",
          "text": [
            "[LabeledPoint(0.0, [0.154113033776224,0.08390598470004514,0.2526542937375078,0.1687506411573645,0.07005137898919273,0.056041103191354184,0.42667700524539587,0.048945157741692995,0.07044444113822321,0.21015413696757818,0.028020551595677092,0.3194001004972459,0.1263271468687539,0.4454715931166001,0.0,0.02796866156668171,0.08437532057868224,0.05593732313336342,0.06316357343437695,0.5504988510687896])]\n"
          ],
          "name": "stdout"
        }
      ]
    },
    {
      "cell_type": "code",
      "metadata": {
        "id": "tae6rZyYiZXo",
        "colab_type": "code",
        "colab": {}
      },
      "source": [
        "\"\"\" Train and Test 2 algorithms \"\"\"\n",
        "\n",
        "def Train_Model(train_rdd):\n",
        "    starting_point = time.perf_counter()\n",
        "    print('Training process')\n",
        "    print(\"-\" * 80)\n",
        "    model1 = LogisticRegressionWithLBFGS.train(train_rdd) # logistic regression\n",
        "    print(\"Model 1 --> Logistic Regression\")\n",
        "    print(f\"{type(model1)}\")\n",
        "    print(\"-\" * 80)\n",
        "    model2 = SVMWithSGD.train(train_rdd) # support vector machine\n",
        "    print(\"Model 2 --> SVM\")\n",
        "    print(f\"{type(model2)}\")\n",
        "    print(\"-\" * 80)\n",
        "    end = time.perf_counter()\n",
        "    print(\"\\n\", f\"Execution time --> {round(end - starting_point, 2)} in sec\") # counting the execution time\n",
        "    return (model1,model2)\n",
        "\n",
        "def Test_Model(model, test_rdd):\n",
        "    pred_and_targ = test_rdd.map(lambda element: (model.predict(element.features), element.label)) # get the prediction and ground truth (label) for each item.\n",
        "    correct = pred_and_targ.filter(lambda label: label[0] == label[1]).count() # count the correct predictions \n",
        "    accuracy = correct / pred_and_targ.count()\n",
        "    print(f\"--> {accuracy} (data items: {pred_and_targ.count()}, correct: {correct})\")\n",
        "    return(accuracy)\n",
        "\n",
        "# Comment out to check (final_partial is used once more to easily test the functionality)\n",
        "\n",
        "# Log_Reg, SVM = Train_Model(final_partial)\n",
        "# accur_evaluation = Test_Model(SVM, final_partial)"
      ],
      "execution_count": 0,
      "outputs": []
    },
    {
      "cell_type": "code",
      "metadata": {
        "id": "ibzo28LPsL8k",
        "colab_type": "code",
        "colab": {}
      },
      "source": [
        "\"\"\" Apply all the above to the actual Training RDD (\"Train_Rdd) which is created earlier \"\"\"\n",
        "\n",
        "def Preproc_Full(rdd,dimensions): # the functions below have been fully explained earlier\n",
        "    train_Rdd1 = RDD_preparation(rdd)\n",
        "    train_Rdd2 = Norm_Tfidf(train_Rdd1, dimensions)\n",
        "    train_Rdd3 = Create_Labels(train_Rdd2)\n",
        "    return(train_Rdd3)\n",
        "\n",
        "new_dimensions = dimensions # dimensionality value may change BUT currently the previous number is used\n",
        "final_TRAIN_rdd = Preproc_Full(train_Rdd, new_dimensions)\n",
        "final_TEST_rdd = Preproc_Full(test_Rdd, new_dimensions)\n",
        "\n",
        "# print(final_TRAIN_rdd.take(1))\n",
        "# print(final_TEST_rdd.take(1))"
      ],
      "execution_count": 0,
      "outputs": []
    },
    {
      "cell_type": "code",
      "metadata": {
        "id": "gdVS5yhGsL5M",
        "colab_type": "code",
        "colab": {
          "base_uri": "https://localhost:8080/",
          "height": 443
        },
        "outputId": "a75dc676-c456-4629-f462-f29cc62f60fd"
      },
      "source": [
        "def Train_Test_preocess(train_rdd,test_rdd):\n",
        "    models = Train_Model(train_rdd)\n",
        "    results = [[],[]] # matrix for 2 modes (training/test) vs n models (currently 3)\n",
        "    for x, model in enumerate(models):\n",
        "        print(\"\\n\", f\"Model {x+1}\")\n",
        "        print('Training Accuracy')\n",
        "        results[0].append(Test_Model(model, train_rdd))\n",
        "        print(\"-\" * 80)\n",
        "        print('Test Accuracy')\n",
        "        results[1].append(Test_Model(model, test_rdd))\n",
        "    return(results)\n",
        "\n",
        "model_evaluation = Train_Test_preocess(final_TRAIN_rdd, final_TEST_rdd)"
      ],
      "execution_count": 19,
      "outputs": [
        {
          "output_type": "stream",
          "text": [
            "Training process\n",
            "--------------------------------------------------------------------------------\n",
            "Model 1 --> Logistic Regression\n",
            "<class 'pyspark.mllib.classification.LogisticRegressionModel'>\n",
            "--------------------------------------------------------------------------------\n",
            "Model 2 --> SVM\n",
            "<class 'pyspark.mllib.classification.SVMModel'>\n",
            "--------------------------------------------------------------------------------\n",
            "\n",
            " Execution time --> 79.29 in sec\n",
            "\n",
            " Model 1\n",
            "Training Accuracy\n",
            "--> 0.9062259800153728 (data items: 2602, correct: 2358)\n",
            "--------------------------------------------------------------------------------\n",
            "Test Accuracy\n",
            "--> 0.7285223367697594 (data items: 291, correct: 212)\n",
            "\n",
            " Model 2\n",
            "Training Accuracy\n",
            "--> 0.8339738662567256 (data items: 2602, correct: 2170)\n",
            "--------------------------------------------------------------------------------\n",
            "Test Accuracy\n",
            "--> 0.8316151202749141 (data items: 291, correct: 242)\n"
          ],
          "name": "stdout"
        }
      ]
    },
    {
      "cell_type": "code",
      "metadata": {
        "id": "2D-0pNWCdJ-2",
        "colab_type": "code",
        "colab": {}
      },
      "source": [
        "# comment out and run the code below to DELETE the temporal direcory\n",
        "# ---> WARNING <--- it will DELETE everything and RETURN the files and directories in the INITIAL situation\n",
        "\n",
        "# os.chdir(\"/content\")\n",
        "# shutil.rmtree(unique_dir)"
      ],
      "execution_count": 0,
      "outputs": []
    }
  ]
}