{
  "nbformat": 4,
  "nbformat_minor": 0,
  "metadata": {
    "colab": {
      "name": "Untitled0.ipynb",
      "provenance": [],
      "authorship_tag": "ABX9TyO/VtPfy9S/3zUW7ahsJO9v",
      "include_colab_link": true
    },
    "kernelspec": {
      "name": "python3",
      "display_name": "Python 3"
    }
  },
  "cells": [
    {
      "cell_type": "markdown",
      "metadata": {
        "id": "view-in-github",
        "colab_type": "text"
      },
      "source": [
        "<a href=\"https://colab.research.google.com/github/Anastasios-K/Classification/blob/master/Visual%20in%20PROGRESS.ipynb\" target=\"_parent\"><img src=\"https://colab.research.google.com/assets/colab-badge.svg\" alt=\"Open In Colab\"/></a>"
      ]
    },
    {
      "cell_type": "code",
      "metadata": {
        "id": "HB2KpVwGwhjq",
        "colab_type": "code",
        "colab": {}
      },
      "source": [
        "from sklearn.datasets import load_wine\n",
        "import pandas as pd\n",
        "import numpy as np\n",
        "from scipy import stats\n",
        "import matplotlib.pyplot as plt"
      ],
      "execution_count": 0,
      "outputs": []
    },
    {
      "cell_type": "code",
      "metadata": {
        "id": "T4RsezVRwtqH",
        "colab_type": "code",
        "colab": {}
      },
      "source": [
        "loading = load_wine()\n",
        "df= pd.DataFrame(loading['data'], columns = loading['feature_names']); #df['targets'] = loading['target']"
      ],
      "execution_count": 0,
      "outputs": []
    },
    {
      "cell_type": "code",
      "metadata": {
        "id": "0f-_D2fAwwZV",
        "colab_type": "code",
        "colab": {}
      },
      "source": [
        "print(df)"
      ],
      "execution_count": 0,
      "outputs": []
    },
    {
      "cell_type": "code",
      "metadata": {
        "id": "63IATC5DxdRG",
        "colab_type": "code",
        "colab": {}
      },
      "source": [
        "num_of_subplot = 1\n",
        "#if len(df.columns) % 5 == 0:\n",
        " # length= len(df.columns)//5\n",
        "#elif len(df.columns) % 5 <= 5:\n",
        " # length= len(df.columns)//5 + 1\n",
        "#else:\n",
        "  #length= len(df.columns)//5 + 2\n",
        "\n",
        "figure = plt.figure(\n",
        "    #num= 1,\n",
        "    figsize= (12,10),\n",
        "    facecolor='w'\n",
        "    )\n",
        "plt.subplots_adjust(\n",
        "    left= 0.1,\n",
        "    right= 1,\n",
        "    wspace= 0.3,\n",
        "    hspace= 0.2\n",
        "    )\n",
        "plt.rc('font', size= 8, bold=True)\n",
        "for column in df:\n",
        "  Shapiro_Wilk = np.round(stats.shapiro(df[column]), decimals = 3)\n",
        "  _, bins = np.histogram(df[column], bins= 'auto')\n",
        "  plt.subplot(3, 5, num_of_subplot)\n",
        "  y_axis, x_axis, _ = plt.hist(\n",
        "      df[column],\n",
        "      bins= bins,\n",
        "      color= 'tan',\n",
        "      density= True,\n",
        "      alpha= 0.75,\n",
        "      histtype= 'bar'\n",
        "      )\n",
        "  plt.title(column)\n",
        "  num_of_subplot += 1\n",
        "#plt.show()"
      ],
      "execution_count": 0,
      "outputs": []
    },
    {
      "cell_type": "code",
      "metadata": {
        "id": "aYLQXx42_Wjx",
        "colab_type": "code",
        "colab": {
          "base_uri": "https://localhost:8080/",
          "height": 238
        },
        "outputId": "b60887d9-0a2d-400e-91ab-8e1082be7dee"
      },
      "source": [
        "for i, column in enumerate(df):\n",
        "  print(df.columns[i])"
      ],
      "execution_count": 89,
      "outputs": [
        {
          "output_type": "stream",
          "text": [
            "alcohol\n",
            "malic_acid\n",
            "ash\n",
            "alcalinity_of_ash\n",
            "magnesium\n",
            "total_phenols\n",
            "flavanoids\n",
            "nonflavanoid_phenols\n",
            "proanthocyanins\n",
            "color_intensity\n",
            "hue\n",
            "od280/od315_of_diluted_wines\n",
            "proline\n"
          ],
          "name": "stdout"
        }
      ]
    },
    {
      "cell_type": "code",
      "metadata": {
        "id": "jzjY_2uy4cf-",
        "colab_type": "code",
        "colab": {
          "base_uri": "https://localhost:8080/",
          "height": 285
        },
        "outputId": "06473634-a5c5-4cbc-e254-c1995359b4bf"
      },
      "source": [
        "for i, column in enumerate(df):\n",
        "  ax = df[column].plot.hist(bins=20, color='tan')\n",
        "  ax.set_title(df.columns[i], weight = 'bold', size = 20)"
      ],
      "execution_count": 92,
      "outputs": [
        {
          "output_type": "display_data",
          "data": {
            "image/png": "[encoded data removed]",
            "text/plain": [
              "<Figure size 432x288 with 1 Axes>"
            ]
          },
          "metadata": {
            "tags": []
          }
        }
      ]
    },
    {
      "cell_type": "code",
      "metadata": {
        "id": "clc7ywu2w8H2",
        "colab_type": "code",
        "colab": {}
      },
      "source": [
        "def distribution_visualisation(df):\n",
        "    len_indicator= len(df.columns) % 5\n",
        "    num_of_subplot = 1\n",
        "    normality_report = pd.DataFrame(columns = df.columns, index = ('Kolmogorov', 'Shapiro', 'Mean', 'Median'))\n",
        "    \n",
        "    if len_indicator == 0:\n",
        "        length= len(df.columns)//5\n",
        "    elif len_indicator <= 5:\n",
        "        length= len(df.columns)//5 + 1\n",
        "    else:\n",
        "        length= len(df.columns)//5 + 2\n",
        "    \n",
        "    figure = plt.figure(\n",
        "            num= 1,\n",
        "            figsize= (5*2.5, length*3),\n",
        "            facecolor='w',\n",
        "            )\n",
        "    plt.subplots_adjust(\n",
        "            left= 0.1,\n",
        "            right= 1,\n",
        "            wspace= 0.13,\n",
        "            hspace= 0.22\n",
        "            )\n",
        "    plt.rc('font', size= 8)\n",
        "    \n",
        "    for column in df:\n",
        "        Kolmogorov = np.around((np.array(stats.kstest(df[column], 'norm'))),4)\n",
        "        Shapiro_Wilk = np.around((np.array(stats.shapiro(df[column]))), 4)\n",
        "        Mean = np.around((np.mean(df[column])),2)\n",
        "        Median = np.around((np.median(df[column])),2)\n",
        "        \n",
        "        normality_report.loc['Kolmogorov', column] = Kolmogorov[1]; \n",
        "        normality_report.loc['Shapiro', column] = Shapiro_Wilk[1]\n",
        "        normality_report.loc['Mean', column] = Mean; normality_report.loc['Median', column] = Median\n",
        "        _, bins = np.histogram(df[column], bins= 'auto')\n",
        "        \n",
        "        plt.subplot(length, 5, num_of_subplot)\n",
        "        y_axis, x_axis, _ = plt.hist(\n",
        "                df[column],\n",
        "                bins= bins,\n",
        "                color= 'tan',\n",
        "                density= True,\n",
        "                alpha= 0.75,\n",
        "                histtype= 'bar'\n",
        "                )\n",
        "        \n",
        "        plt.title(column) \n",
        "        \n",
        "        plt.tick_params(\n",
        "                bottom= False,\n",
        "                left= False\n",
        "                )\n",
        "        \n",
        "        downward = 1\n",
        "        for x in normality_report.index:       \n",
        "            plt.text(\n",
        "                    x_axis.max(),\n",
        "                    y_axis.max()* downward,\n",
        "                    str(x) + \": \" + str(normality_report.loc[x, column]),\n",
        "                    fontsize = 8,\n",
        "                    fontweight = 'bold',\n",
        "                    color = 'r',\n",
        "                    ha = 'right',\n",
        "                    va = 'top'\n",
        "                    )\n",
        "            downward = downward - 0.07\n",
        "        \n",
        "        lineSP = np.linspace((np.min(bins)), (np.max(bins)), len(bins))\n",
        "        df[column].plot.kde(color= 'darkblue', ind=lineSP, alpha = 0.75)\n",
        "        plt.gca().axes.get_yaxis().set_visible(False)\n",
        "        num_of_subplot = num_of_subplot + 1\n",
        "    plt.show()\n",
        "    return figure, normality_report\n",
        "\n",
        "if __name__ == \"__main__\":\n",
        "    pass"
      ],
      "execution_count": 0,
      "outputs": []
    }
  ]
}