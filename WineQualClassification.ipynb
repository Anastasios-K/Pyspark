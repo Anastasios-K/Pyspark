{
  "nbformat": 4,
  "nbformat_minor": 0,
  "metadata": {
    "colab": {
      "name": "WineQualClassification.ipynb",
      "provenance": [],
      "authorship_tag": "ABX9TyPE4GIa65X/8TEnajOTWYHm",
      "include_colab_link": true
    },
    "kernelspec": {
      "name": "python3",
      "display_name": "Python 3"
    }
  },
  "cells": [
    {
      "cell_type": "markdown",
      "metadata": {
        "id": "view-in-github",
        "colab_type": "text"
      },
      "source": [
        "<a href=\"https://colab.research.google.com/github/Anastasios-K/Classification/blob/master/WineQualClassification.ipynb\" target=\"_parent\"><img src=\"https://colab.research.google.com/assets/colab-badge.svg\" alt=\"Open In Colab\"/></a>"
      ]
    },
    {
      "cell_type": "code",
      "metadata": {
        "id": "xOoKT_nGLvM9",
        "colab_type": "code",
        "colab": {
          "base_uri": "https://localhost:8080/",
          "height": 34
        },
        "outputId": "9073e0d7-4ada-40bd-878d-99a0577131ae"
      },
      "source": [
        "from google.colab import drive\n",
        "import pandas as pd\n",
        "drive.mount('/content/drive/')"
      ],
      "execution_count": 50,
      "outputs": [
        {
          "output_type": "stream",
          "text": [
            "Drive already mounted at /content/drive/; to attempt to forcibly remount, call drive.mount(\"/content/drive/\", force_remount=True).\n"
          ],
          "name": "stdout"
        }
      ]
    },
    {
      "cell_type": "code",
      "metadata": {
        "id": "Coja4RtaKaja",
        "colab_type": "code",
        "colab": {}
      },
      "source": [
        "from pathlib import Path\n",
        "path = Path('/content/drive/My Drive/DS Projects/Classification/Wine Quality')\n",
        "directories = list(path.iterdir())\n",
        "# ------> Look for further selection from the directories\n",
        "\n",
        "# Add extra datasets into the parent directory"
      ],
      "execution_count": 0,
      "outputs": []
    },
    {
      "cell_type": "code",
      "metadata": {
        "id": "7dwo5Odkt0NH",
        "colab_type": "code",
        "colab": {}
      },
      "source": [
        "dimensions = 12\n",
        "attributes = ['fixed acidity', 'volatile acidity', 'citric acid', 'residual sugar',\n",
        "              'chlorides', 'free sulfur dioxide', 'total sulfur dioxide', 'density',\n",
        "              'pH', 'sulphates', 'alcohol', 'quality']\n",
        "\n",
        "# Creating a dictionary of the dataframes\n",
        "def DF_dict_generator(list_of_datasets, dimensionality, attributes):\n",
        "  wine_dict = {}\n",
        "  for i, item in enumerate(list_of_datasets):\n",
        "    wine_dict[\"df{0}\".format(i+1)]=pd.read_csv(item, delimiter=';', skip_blank_lines=False,skipinitialspace=True)\n",
        "    if len(wine_dict[\"df{0}\".format(i+1)].columns) != dimensionality:\n",
        "      wine_dict[\"df{0}\".format(i+1)]=pd.read_csv(item, delimiter=';', skip_blank_lines=False,skipinitialspace=True, skiprows=[0], names=attributes)\n",
        "    else:\n",
        "      pass\n",
        "    wine_dict[\"df{0}\".format(i+1)]['wine type'] = pd.Series(i+1, index=wine_dict[\"df{0}\".format(i+1)].index)\n",
        "  df = pd.concat(wine_dict, ignore_index=True)\n",
        "  return(df)"
      ],
      "execution_count": 0,
      "outputs": []
    },
    {
      "cell_type": "code",
      "metadata": {
        "id": "JO5W4hOgLuaw",
        "colab_type": "code",
        "colab": {}
      },
      "source": [
        "#---------> use of the above function\n",
        "df = DF_dict_generator(directories,12,attributes)"
      ],
      "execution_count": 0,
      "outputs": []
    },
    {
      "cell_type": "code",
      "metadata": {
        "id": "BIENmav8P5Xs",
        "colab_type": "code",
        "colab": {}
      },
      "source": [
        "# Use it to add some noise in the data\n",
        "# Use it to test the how data quality below works\n",
        "\n",
        "def Null_test(df):\n",
        "  import random as rng\n",
        "  import numpy as np\n",
        "  rng.seed()\n",
        "  num_of_NAN = np.round(len(df)*len(df.columns)*0.4, decimals=0)\n",
        "  for x in range(int(num_of_NAN)):\n",
        "      df.iloc[rng.randint(0,len(df)-1),rng.randint(0,len(df.columns)-1)]=np.nan\n",
        "  return(df)\n",
        "if __name__ == \"__main__\":\n",
        "    pass\n"
      ],
      "execution_count": 0,
      "outputs": []
    },
    {
      "cell_type": "code",
      "metadata": {
        "id": "TX-xvk-sJtEy",
        "colab_type": "code",
        "colab": {}
      },
      "source": [
        "df = Null_test(df)"
      ],
      "execution_count": 0,
      "outputs": []
    },
    {
      "cell_type": "code",
      "metadata": {
        "id": "HFTHRBwGWmIo",
        "colab_type": "code",
        "colab": {
          "base_uri": "https://localhost:8080/",
          "height": 323
        },
        "outputId": "f65cb140-1e7f-48d0-928d-990b4c4dee5e"
      },
      "source": [
        "# THIS IS the quality funcction\n",
        "# It is in progress\n",
        "# ROW decison needs to be added\n",
        "comulative_quality=[]\n",
        "for column in df:\n",
        "  quality = df[column].isnull().value_counts()\n",
        "  comulative_quality.append(quality[0])\n",
        "  if quality.iloc[0]/len(df) > 0.9:\n",
        "    df = df.drop([column], axis=1)\n",
        "  elif sum(comulative_quality)/(len(df)*len(df.columns)) > 0.15:\n",
        "    print('mlkia')\n",
        "    print(comulative_quality)"
      ],
      "execution_count": 59,
      "outputs": [
        {
          "output_type": "stream",
          "text": [
            "mlkia\n",
            "[2923, 2919, 2975, 2890, 2912]\n",
            "mlkia\n",
            "[2923, 2919, 2975, 2890, 2912, 2913]\n",
            "mlkia\n",
            "[2923, 2919, 2975, 2890, 2912, 2913, 2864]\n",
            "mlkia\n",
            "[2923, 2919, 2975, 2890, 2912, 2913, 2864, 2907]\n",
            "mlkia\n",
            "[2923, 2919, 2975, 2890, 2912, 2913, 2864, 2907, 2975]\n",
            "mlkia\n",
            "[2923, 2919, 2975, 2890, 2912, 2913, 2864, 2907, 2975, 2903]\n",
            "mlkia\n",
            "[2923, 2919, 2975, 2890, 2912, 2913, 2864, 2907, 2975, 2903, 2904]\n",
            "mlkia\n",
            "[2923, 2919, 2975, 2890, 2912, 2913, 2864, 2907, 2975, 2903, 2904, 2962]\n",
            "mlkia\n",
            "[2923, 2919, 2975, 2890, 2912, 2913, 2864, 2907, 2975, 2903, 2904, 2962, 2843]\n"
          ],
          "name": "stdout"
        }
      ]
    },
    {
      "cell_type": "code",
      "metadata": {
        "id": "38ufnEMGJaR1",
        "colab_type": "code",
        "colab": {
          "base_uri": "https://localhost:8080/",
          "height": 34
        },
        "outputId": "106207a3-0b91-4666-fded-bb89c33222bf"
      },
      "source": [
        "print(comulative_quality)"
      ],
      "execution_count": 47,
      "outputs": [
        {
          "output_type": "stream",
          "text": [
            "56620\n"
          ],
          "name": "stdout"
        }
      ]
    },
    {
      "cell_type": "code",
      "metadata": {
        "id": "1MAPVEmNLqDU",
        "colab_type": "code",
        "colab": {}
      },
      "source": [
        "comulative_quality = sum(comulative_quality)"
      ],
      "execution_count": 0,
      "outputs": []
    }
  ]
}