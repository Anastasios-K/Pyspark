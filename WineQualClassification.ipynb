{
  "nbformat": 4,
  "nbformat_minor": 0,
  "metadata": {
    "colab": {
      "name": "WineQualClassification.ipynb",
      "provenance": [],
      "authorship_tag": "ABX9TyPR83pyzGzyJFA0dyPj5yp3",
      "include_colab_link": true
    },
    "kernelspec": {
      "name": "python3",
      "display_name": "Python 3"
    }
  },
  "cells": [
    {
      "cell_type": "markdown",
      "metadata": {
        "id": "view-in-github",
        "colab_type": "text"
      },
      "source": [
        "<a href=\"https://colab.research.google.com/github/Anastasios-K/Classification/blob/master/WineQualClassification.ipynb\" target=\"_parent\"><img src=\"https://colab.research.google.com/assets/colab-badge.svg\" alt=\"Open In Colab\"/></a>"
      ]
    },
    {
      "cell_type": "code",
      "metadata": {
        "id": "xOoKT_nGLvM9",
        "colab_type": "code",
        "outputId": "40028411-ac24-4547-9507-59984027d1d5",
        "colab": {
          "base_uri": "https://localhost:8080/",
          "height": 34
        }
      },
      "source": [
        "from google.colab import drive\n",
        "import pandas as pd\n",
        "from sklearn.model_selection import train_test_split as split\n",
        "from sklearn.preprocessing import MinMaxScaler, StandardScaler\n",
        "\n",
        "drive.mount('/content/drive/')"
      ],
      "execution_count": 194,
      "outputs": [
        {
          "output_type": "stream",
          "text": [
            "Drive already mounted at /content/drive/; to attempt to forcibly remount, call drive.mount(\"/content/drive/\", force_remount=True).\n"
          ],
          "name": "stdout"
        }
      ]
    },
    {
      "cell_type": "code",
      "metadata": {
        "id": "Coja4RtaKaja",
        "colab_type": "code",
        "colab": {}
      },
      "source": [
        "from pathlib import Path\n",
        "path = Path('/content/drive/My Drive/DS Projects/Classification/Wine Quality')\n",
        "directories = list(path.iterdir())\n",
        "# ------> Look for further selection from the directories\n",
        "\n",
        "# Add extra datasets into the parent directory"
      ],
      "execution_count": 0,
      "outputs": []
    },
    {
      "cell_type": "code",
      "metadata": {
        "id": "7dwo5Odkt0NH",
        "colab_type": "code",
        "colab": {}
      },
      "source": [
        "dimensions = 12\n",
        "attributes = ['fixed acidity', 'volatile acidity', 'citric acid', 'residual sugar',\n",
        "              'chlorides', 'free sulfur dioxide', 'total sulfur dioxide', 'density',\n",
        "              'pH', 'sulphates', 'alcohol', 'quality']\n",
        "\n",
        "# This is to create a dict with all dataframes\n",
        "# Multiple files from cloud compose the final dataframe\n",
        "# The dimensionality of the data and the attributes' names are required\n",
        "# The list of the datasets is created before\n",
        "\n",
        "def DF_dict_generator(list_of_datasets, dimensionality, attributes):\n",
        "  wine_dict = {}\n",
        "  for i, item in enumerate(list_of_datasets):\n",
        "    wine_dict[\"df{0}\".format(i+1)]=pd.read_csv(item, delimiter=';', skip_blank_lines=False,skipinitialspace=True)\n",
        "    if len(wine_dict[\"df{0}\".format(i+1)].columns) != dimensionality:\n",
        "      wine_dict[\"df{0}\".format(i+1)]=pd.read_csv(item, delimiter=';', skip_blank_lines=False,skipinitialspace=True, skiprows=[0], names=attributes)\n",
        "    else:\n",
        "      pass\n",
        "    wine_dict[\"df{0}\".format(i+1)]['wine type'] = pd.Series(i+1, index=wine_dict[\"df{0}\".format(i+1)].index)\n",
        "  df = pd.concat(wine_dict, ignore_index=True)\n",
        "  return(df)"
      ],
      "execution_count": 0,
      "outputs": []
    },
    {
      "cell_type": "code",
      "metadata": {
        "id": "JO5W4hOgLuaw",
        "colab_type": "code",
        "colab": {}
      },
      "source": [
        "#### ---------> use of the above function \"DF_dict_generator\"\n",
        "df = DF_dict_generator(directories,12,attributes)"
      ],
      "execution_count": 0,
      "outputs": []
    },
    {
      "cell_type": "code",
      "metadata": {
        "id": "BIENmav8P5Xs",
        "colab_type": "code",
        "colab": {}
      },
      "source": [
        "# It is --- N O T --- necesary\n",
        "# Use it to test the below quality function\n",
        "# This is to add some missing values to the data (currently 20%)\n",
        "# Change the amount of missing values by changing the \"Error_PerCent\" variable\n",
        "# The below libraries are required\n",
        "\n",
        "import random as rng\n",
        "import numpy as np\n",
        "\n",
        "def Null_test(df):\n",
        "  Error_PerCent = 0.2\n",
        "  rng.seed()\n",
        "  num_of_NAN = np.round(len(df)*len(df.columns)*Error_PerCent, decimals=0)\n",
        "  for x in range(int(num_of_NAN)):\n",
        "      df.iloc[rng.randint(0,len(df)-1),rng.randint(0,len(df.columns)-1)]=np.nan\n",
        "  return(df)\n",
        "if __name__ == \"__main__\":\n",
        "    pass\n"
      ],
      "execution_count": 0,
      "outputs": []
    },
    {
      "cell_type": "code",
      "metadata": {
        "id": "TX-xvk-sJtEy",
        "colab_type": "code",
        "colab": {}
      },
      "source": [
        "#### ---------> use of the above function \"Null_test\"\n",
        "df = Null_test(df)"
      ],
      "execution_count": 0,
      "outputs": []
    },
    {
      "cell_type": "code",
      "metadata": {
        "id": "HFTHRBwGWmIo",
        "colab_type": "code",
        "colab": {}
      },
      "source": [
        "# This is to do the following:\n",
        "# 1. Detecting missing values\n",
        "# 2. Removing an attribute if it includes more than 20% of missing values\n",
        "# 3. Filling up the NaN values using the average of the last and next valid values\n",
        "\n",
        "# Change the \"tolerance\" variable to change the when a column is removed\n",
        "# The numpy library is required\n",
        "# The Quality list shows the percenatge of valid values per attribute before the filling function\n",
        "\n",
        "import numpy as np\n",
        "\n",
        "def Drop_Fill(df):\n",
        "  Quality=[]\n",
        "  tollerance = 0.2\n",
        "  for column in df:\n",
        "    quality = df[column].isnull().value_counts()\n",
        "    a = np.round(quality.iloc[0]/len(df), decimals=3)\n",
        "    Quality.append(a)\n",
        "    if a < 1 - tollerance:\n",
        "      df = df.drop([column], axis=1)\n",
        "    else:\n",
        "      pass\n",
        "  front_fill = df.ffill()\n",
        "  back_fill = df.bfill()\n",
        "  front_fill = front_fill.bfill() # The reverse method covers the case of NaN values on the first row\n",
        "  back_fill = back_fill.ffill()   # The same here for NaN values at the last row\n",
        "  df = (front_fill+back_fill)/2\n",
        "  return(df, Quality)\n"
      ],
      "execution_count": 0,
      "outputs": []
    },
    {
      "cell_type": "code",
      "metadata": {
        "id": "38ufnEMGJaR1",
        "colab_type": "code",
        "colab": {}
      },
      "source": [
        "#### ---------> use of the above function \"Drop_Fill\"\n",
        "df, Quality =Drop_Fill(df)"
      ],
      "execution_count": 0,
      "outputs": []
    },
    {
      "cell_type": "code",
      "metadata": {
        "id": "W204LFrgwCj9",
        "colab_type": "code",
        "colab": {}
      },
      "source": [
        "# The label of type was also added bofore\n",
        "# Currently, only the quality label is used for the calssification\n",
        "# 20% of the data is used for testing\n",
        "\n",
        "Depend_quality = df.iloc[0:,11]\n",
        "Depend_type = df.iloc[0:,12]\n",
        "Predictors = df.iloc[0:,:11]\n",
        "\n",
        "X_train, X_test, Y_train, Y_test = split(Predictors, Depend_quality, test_size=0.2, random_state=7, shuffle=True)"
      ],
      "execution_count": 0,
      "outputs": []
    },
    {
      "cell_type": "code",
      "metadata": {
        "id": "vtt8_o87895Q",
        "colab_type": "code",
        "colab": {
          "base_uri": "https://localhost:8080/",
          "height": 282
        },
        "outputId": "37f1a74d-725f-4055-c056-7cff9caea082"
      },
      "source": [
        "# This is in progress\n",
        "# This is a probability distribution/density analysis\n",
        "\n",
        "import matplotlib.pyplot as plt\n",
        "\n",
        "_, bins = np.histogram(df['fixed acidity'], bins= 'auto')\n",
        "#_, bins = np.histogram(df['pH'], bins= 'auto')\n",
        "#plt.hist(df['fixed acidity'],bins= bins,color= 'b',density= True,alpha= 0.75,histtype= 'bar');\n",
        "lineSP = np.linspace((np.min(bins)), (np.max(bins)), len(bins))\n",
        "df['fixed acidity'].plot.kde(color= 'darkblue', ind=lineSP, alpha = 0.75)\n",
        "\n",
        "_, bins = np.histogram(df['citric acid'], bins= 'auto')\n",
        "lineSP = np.linspace((np.min(bins)), (np.max(bins)), len(bins))\n",
        "df['citric acid'].plot.kde(color= 'green', ind=lineSP, alpha = 0.75)\n",
        "\n",
        "_, bins = np.histogram(df['pH'], bins= 'auto')\n",
        "lineSP = np.linspace((np.min(bins)), (np.max(bins)), len(bins))\n",
        "df['pH'].plot.kde(color= 'red', ind=lineSP, alpha = 0.75)\n",
        "\n"
      ],
      "execution_count": 217,
      "outputs": [
        {
          "output_type": "execute_result",
          "data": {
            "text/plain": [
              "<matplotlib.axes._subplots.AxesSubplot at 0x7f22cbebe780>"
            ]
          },
          "metadata": {
            "tags": []
          },
          "execution_count": 217
        },
        {
          "output_type": "display_data",
          "data": {
            "image/png": "[encoded data removed]",
            "text/plain": [
              "<Figure size 432x288 with 1 Axes>"
            ]
          },
          "metadata": {
            "tags": []
          }
        }
      ]
    },
    {
      "cell_type": "code",
      "metadata": {
        "id": "t921k_XezqCc",
        "colab_type": "code",
        "colab": {
          "base_uri": "https://localhost:8080/",
          "height": 136
        },
        "outputId": "dd170079-ddf9-40c3-e9e9-6e1a7617792b"
      },
      "source": [
        "# Data standardisation (data scaling) is applied below\n",
        "# It is crucial when specific machine learning techniques are used (for more details see text section below)\n",
        "# The MinMax function is used; For the reason look at the text section\n",
        "\n",
        "scaler = MinMaxScaler(feature_range=(0,1))\n",
        "Scaled_train =scaler.fit_transform(X_train)\n",
        "print(Scaled_train)"
      ],
      "execution_count": 202,
      "outputs": [
        {
          "output_type": "stream",
          "text": [
            "[[0.23728814 0.08666667 0.23493976 ... 0.37795276 0.20224719 0.47933884]\n",
            " [0.22033898 0.17333333 0.12048193 ... 0.30708661 0.12921348 0.16528926]\n",
            " [0.29661017 0.08       0.26506024 ... 0.32283465 0.13483146 0.33057851]\n",
            " ...\n",
            " [0.30508475 0.11333333 0.21686747 ... 0.21259843 0.14606742 0.16528926]\n",
            " [0.22033898 0.1        0.19879518 ... 0.46456693 0.12359551 0.49586777]\n",
            " [0.26271186 0.22666667 0.12048193 ... 0.26771654 0.17977528 0.23140496]]\n"
          ],
          "name": "stdout"
        }
      ]
    }
  ]
}