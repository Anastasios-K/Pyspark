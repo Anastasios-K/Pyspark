{
  "nbformat": 4,
  "nbformat_minor": 0,
  "metadata": {
    "colab": {
      "name": "WineQualClassification.ipynb",
      "provenance": [],
      "authorship_tag": "ABX9TyODGIBFpEB+9TPJdW453G8b",
      "include_colab_link": true
    },
    "kernelspec": {
      "name": "python3",
      "display_name": "Python 3"
    }
  },
  "cells": [
    {
      "cell_type": "markdown",
      "metadata": {
        "id": "view-in-github",
        "colab_type": "text"
      },
      "source": [
        "<a href=\"https://colab.research.google.com/github/Anastasios-K/Classification/blob/master/WineQualClassification.ipynb\" target=\"_parent\"><img src=\"https://colab.research.google.com/assets/colab-badge.svg\" alt=\"Open In Colab\"/></a>"
      ]
    },
    {
      "cell_type": "code",
      "metadata": {
        "id": "xOoKT_nGLvM9",
        "colab_type": "code",
        "colab": {}
      },
      "source": [
        "from google.colab import drive\n",
        "import pandas as pd\n",
        "drive.mount('/content/drive/')"
      ],
      "execution_count": 0,
      "outputs": []
    },
    {
      "cell_type": "code",
      "metadata": {
        "id": "Coja4RtaKaja",
        "colab_type": "code",
        "colab": {}
      },
      "source": [
        "from pathlib import Path\n",
        "path = Path('/content/drive/My Drive/DS Projects/Classification/Wine Quality')\n",
        "directories = list(path.iterdir())\n",
        "# ------> Look for further selection from the directories\n",
        "\n",
        "# Add extra datasets into the parent directory"
      ],
      "execution_count": 0,
      "outputs": []
    },
    {
      "cell_type": "code",
      "metadata": {
        "id": "7dwo5Odkt0NH",
        "colab_type": "code",
        "colab": {}
      },
      "source": [
        "dimensions = 12\n",
        "attributes = ['fixed acidity', 'volatile acidity', 'citric acid', 'residual sugar',\n",
        "              'chlorides', 'free sulfur dioxide', 'total sulfur dioxide', 'density',\n",
        "              'pH', 'sulphates', 'alcohol', 'quality']\n",
        "\n",
        "# Creating a dictionary of the dataframes\n",
        "def DF_dict_generator(list_of_datasets, dimensionality, attributes):\n",
        "  wine_dict = {}\n",
        "  for i, item in enumerate(list_of_datasets):\n",
        "    wine_dict[\"df{0}\".format(i+1)]=pd.read_csv(item, delimiter=';', skip_blank_lines=False,skipinitialspace=True)\n",
        "    if len(wine_dict[\"df{0}\".format(i+1)].columns) != dimensionality:\n",
        "      wine_dict[\"df{0}\".format(i+1)]=pd.read_csv(item, delimiter=';', skip_blank_lines=False,skipinitialspace=True, skiprows=[0], names=attributes)\n",
        "    else:\n",
        "      pass\n",
        "    wine_dict[\"df{0}\".format(i+1)]['wine type'] = pd.Series(i+1, index=wine_dict[\"df{0}\".format(i+1)].index)\n",
        "  df = pd.concat(wine_dict, ignore_index=True)\n",
        "  return(df)"
      ],
      "execution_count": 0,
      "outputs": []
    },
    {
      "cell_type": "code",
      "metadata": {
        "id": "JO5W4hOgLuaw",
        "colab_type": "code",
        "colab": {}
      },
      "source": [
        "#---------> use of the above function\n",
        "df = DF_dict_generator(directories,12,attributes)"
      ],
      "execution_count": 0,
      "outputs": []
    },
    {
      "cell_type": "code",
      "metadata": {
        "id": "BIENmav8P5Xs",
        "colab_type": "code",
        "colab": {}
      },
      "source": [
        "# Use it to add some noise in the data\n",
        "# Use it to test the how data quality below works\n",
        "\n",
        "def Null_test(df):\n",
        "  import random as rng\n",
        "  import numpy as np\n",
        "  rng.seed()\n",
        "  num_of_NAN = np.round(len(df)*len(df.columns)*0.4, decimals=0)\n",
        "  for x in range(int(num_of_NAN)):\n",
        "      df.iloc[rng.randint(0,len(df)-1),rng.randint(0,len(df.columns)-1)]=np.nan\n",
        "  return(df)\n",
        "if __name__ == \"__main__\":\n",
        "    pass\n"
      ],
      "execution_count": 0,
      "outputs": []
    },
    {
      "cell_type": "code",
      "metadata": {
        "id": "HFTHRBwGWmIo",
        "colab_type": "code",
        "colab": {}
      },
      "source": [
        "# THIS IS the quality funcction\n",
        "# It is in progress\n",
        "# ROW decison needs to be added\n",
        "for column in df:\n",
        "  attr_quality = df[column].isnull().value_counts().iloc[0]/len(df)\n",
        "  if attr_quality > 0.1:\n",
        "    df = df.drop([column], axis=1)"
      ],
      "execution_count": 0,
      "outputs": []
    }
  ]
}